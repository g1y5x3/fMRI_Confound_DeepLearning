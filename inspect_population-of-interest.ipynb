{
 "cells": [
  {
   "cell_type": "markdown",
   "metadata": {},
   "source": [
    "# Results Reproduction for Sets Validation \n",
    "Predictive modelling using neuroimaging data in the presence of confounds \n",
    "https://www.sciencedirect.com/science/article/pii/S1053811917300897"
   ]
  },
  {
   "cell_type": "code",
   "execution_count": 1,
   "metadata": {},
   "outputs": [],
   "source": [
    "import numpy as np\n",
    "import pandas as pd\n",
    "import matplotlib.pyplot as plt\n",
    "from scipy.stats import ttest_ind"
   ]
  },
  {
   "cell_type": "code",
   "execution_count": 2,
   "metadata": {},
   "outputs": [
    {
     "data": {
      "text/html": [
       "<div>\n",
       "<style scoped>\n",
       "    .dataframe tbody tr th:only-of-type {\n",
       "        vertical-align: middle;\n",
       "    }\n",
       "\n",
       "    .dataframe tbody tr th {\n",
       "        vertical-align: top;\n",
       "    }\n",
       "\n",
       "    .dataframe thead th {\n",
       "        text-align: right;\n",
       "    }\n",
       "</style>\n",
       "<table border=\"1\" class=\"dataframe\">\n",
       "  <thead>\n",
       "    <tr style=\"text-align: right;\">\n",
       "      <th></th>\n",
       "      <th>IXI_ID</th>\n",
       "      <th>SEX_ID (1=m, 2=f)</th>\n",
       "      <th>HEIGHT</th>\n",
       "      <th>WEIGHT</th>\n",
       "      <th>ETHNIC_ID</th>\n",
       "      <th>MARITAL_ID</th>\n",
       "      <th>OCCUPATION_ID</th>\n",
       "      <th>QUALIFICATION_ID</th>\n",
       "      <th>DOB</th>\n",
       "      <th>DATE_AVAILABLE</th>\n",
       "      <th>STUDY_DATE</th>\n",
       "      <th>AGE</th>\n",
       "      <th>FILENAME</th>\n",
       "      <th>SITE</th>\n",
       "    </tr>\n",
       "  </thead>\n",
       "  <tbody>\n",
       "    <tr>\n",
       "      <th>0</th>\n",
       "      <td>16</td>\n",
       "      <td>1</td>\n",
       "      <td>172</td>\n",
       "      <td>63</td>\n",
       "      <td>1</td>\n",
       "      <td>2</td>\n",
       "      <td>1</td>\n",
       "      <td>5</td>\n",
       "      <td>1950-04-24</td>\n",
       "      <td>1</td>\n",
       "      <td>2005-06-24 00:00:00</td>\n",
       "      <td>55.17</td>\n",
       "      <td>swc1IXI016-Guys-0697-T1.nii</td>\n",
       "      <td>Guys</td>\n",
       "    </tr>\n",
       "    <tr>\n",
       "      <th>1</th>\n",
       "      <td>19</td>\n",
       "      <td>1</td>\n",
       "      <td>180</td>\n",
       "      <td>88</td>\n",
       "      <td>1</td>\n",
       "      <td>2</td>\n",
       "      <td>1</td>\n",
       "      <td>4</td>\n",
       "      <td>1946-11-02</td>\n",
       "      <td>1</td>\n",
       "      <td>2005-06-30 00:00:00</td>\n",
       "      <td>58.66</td>\n",
       "      <td>swc1IXI019-Guys-0702-T1.nii</td>\n",
       "      <td>Guys</td>\n",
       "    </tr>\n",
       "    <tr>\n",
       "      <th>2</th>\n",
       "      <td>28</td>\n",
       "      <td>1</td>\n",
       "      <td>172</td>\n",
       "      <td>70</td>\n",
       "      <td>1</td>\n",
       "      <td>2</td>\n",
       "      <td>5</td>\n",
       "      <td>3</td>\n",
       "      <td>1932-08-11</td>\n",
       "      <td>1</td>\n",
       "      <td>2006-08-21 00:00:00</td>\n",
       "      <td>74.03</td>\n",
       "      <td>swc1IXI028-Guys-1038-T1.nii</td>\n",
       "      <td>Guys</td>\n",
       "    </tr>\n",
       "    <tr>\n",
       "      <th>3</th>\n",
       "      <td>29</td>\n",
       "      <td>2</td>\n",
       "      <td>155</td>\n",
       "      <td>79</td>\n",
       "      <td>4</td>\n",
       "      <td>5</td>\n",
       "      <td>1</td>\n",
       "      <td>5</td>\n",
       "      <td>1946-08-29</td>\n",
       "      <td>1</td>\n",
       "      <td>2005-11-18 00:00:00</td>\n",
       "      <td>59.22</td>\n",
       "      <td>swc1IXI029-Guys-0829-T1.nii</td>\n",
       "      <td>Guys</td>\n",
       "    </tr>\n",
       "    <tr>\n",
       "      <th>4</th>\n",
       "      <td>50</td>\n",
       "      <td>1</td>\n",
       "      <td>180</td>\n",
       "      <td>79</td>\n",
       "      <td>1</td>\n",
       "      <td>4</td>\n",
       "      <td>2</td>\n",
       "      <td>5</td>\n",
       "      <td>1942-05-06</td>\n",
       "      <td>1</td>\n",
       "      <td>2005-07-13 00:00:00</td>\n",
       "      <td>63.19</td>\n",
       "      <td>swc1IXI050-Guys-0711-T1.nii</td>\n",
       "      <td>Guys</td>\n",
       "    </tr>\n",
       "    <tr>\n",
       "      <th>...</th>\n",
       "      <td>...</td>\n",
       "      <td>...</td>\n",
       "      <td>...</td>\n",
       "      <td>...</td>\n",
       "      <td>...</td>\n",
       "      <td>...</td>\n",
       "      <td>...</td>\n",
       "      <td>...</td>\n",
       "      <td>...</td>\n",
       "      <td>...</td>\n",
       "      <td>...</td>\n",
       "      <td>...</td>\n",
       "      <td>...</td>\n",
       "      <td>...</td>\n",
       "    </tr>\n",
       "    <tr>\n",
       "      <th>269</th>\n",
       "      <td>606</td>\n",
       "      <td>1</td>\n",
       "      <td>178</td>\n",
       "      <td>86</td>\n",
       "      <td>1</td>\n",
       "      <td>1</td>\n",
       "      <td>8</td>\n",
       "      <td>5</td>\n",
       "      <td>1946-04-11</td>\n",
       "      <td>1</td>\n",
       "      <td>2006-10-25 00:00:00</td>\n",
       "      <td>60.54</td>\n",
       "      <td>swc1IXI606-HH-2601-T1.nii</td>\n",
       "      <td>HH</td>\n",
       "    </tr>\n",
       "    <tr>\n",
       "      <th>270</th>\n",
       "      <td>608</td>\n",
       "      <td>1</td>\n",
       "      <td>183</td>\n",
       "      <td>86</td>\n",
       "      <td>2</td>\n",
       "      <td>4</td>\n",
       "      <td>2</td>\n",
       "      <td>5</td>\n",
       "      <td>1954-04-26</td>\n",
       "      <td>1</td>\n",
       "      <td>2006-10-25 00:00:00</td>\n",
       "      <td>52.50</td>\n",
       "      <td>swc1IXI608-HH-2599-T1.nii</td>\n",
       "      <td>HH</td>\n",
       "    </tr>\n",
       "    <tr>\n",
       "      <th>271</th>\n",
       "      <td>610</td>\n",
       "      <td>1</td>\n",
       "      <td>180</td>\n",
       "      <td>75</td>\n",
       "      <td>1</td>\n",
       "      <td>2</td>\n",
       "      <td>5</td>\n",
       "      <td>4</td>\n",
       "      <td>1950-02-27</td>\n",
       "      <td>1</td>\n",
       "      <td>2006-11-01 00:00:00</td>\n",
       "      <td>56.68</td>\n",
       "      <td>swc1IXI610-HH-2649-T1.nii</td>\n",
       "      <td>HH</td>\n",
       "    </tr>\n",
       "    <tr>\n",
       "      <th>272</th>\n",
       "      <td>632</td>\n",
       "      <td>1</td>\n",
       "      <td>174</td>\n",
       "      <td>95</td>\n",
       "      <td>3</td>\n",
       "      <td>2</td>\n",
       "      <td>2</td>\n",
       "      <td>4</td>\n",
       "      <td>1950-05-25</td>\n",
       "      <td>1</td>\n",
       "      <td>2006-11-01 00:00:00</td>\n",
       "      <td>56.44</td>\n",
       "      <td>swc1IXI632-HH-2652-T1.nii</td>\n",
       "      <td>HH</td>\n",
       "    </tr>\n",
       "    <tr>\n",
       "      <th>273</th>\n",
       "      <td>646</td>\n",
       "      <td>2</td>\n",
       "      <td>165</td>\n",
       "      <td>60</td>\n",
       "      <td>6</td>\n",
       "      <td>5</td>\n",
       "      <td>5</td>\n",
       "      <td>3</td>\n",
       "      <td>1935-08-18</td>\n",
       "      <td>1</td>\n",
       "      <td>2006-11-01 00:00:00</td>\n",
       "      <td>71.21</td>\n",
       "      <td>swc1IXI646-HH-2653-T1.nii</td>\n",
       "      <td>HH</td>\n",
       "    </tr>\n",
       "  </tbody>\n",
       "</table>\n",
       "<p>274 rows × 14 columns</p>\n",
       "</div>"
      ],
      "text/plain": [
       "     IXI_ID  SEX_ID (1=m, 2=f)  HEIGHT  WEIGHT  ETHNIC_ID  MARITAL_ID  \\\n",
       "0        16                  1     172      63          1           2   \n",
       "1        19                  1     180      88          1           2   \n",
       "2        28                  1     172      70          1           2   \n",
       "3        29                  2     155      79          4           5   \n",
       "4        50                  1     180      79          1           4   \n",
       "..      ...                ...     ...     ...        ...         ...   \n",
       "269     606                  1     178      86          1           1   \n",
       "270     608                  1     183      86          2           4   \n",
       "271     610                  1     180      75          1           2   \n",
       "272     632                  1     174      95          3           2   \n",
       "273     646                  2     165      60          6           5   \n",
       "\n",
       "     OCCUPATION_ID  QUALIFICATION_ID         DOB  DATE_AVAILABLE  \\\n",
       "0                1                 5  1950-04-24               1   \n",
       "1                1                 4  1946-11-02               1   \n",
       "2                5                 3  1932-08-11               1   \n",
       "3                1                 5  1946-08-29               1   \n",
       "4                2                 5  1942-05-06               1   \n",
       "..             ...               ...         ...             ...   \n",
       "269              8                 5  1946-04-11               1   \n",
       "270              2                 5  1954-04-26               1   \n",
       "271              5                 4  1950-02-27               1   \n",
       "272              2                 4  1950-05-25               1   \n",
       "273              5                 3  1935-08-18               1   \n",
       "\n",
       "              STUDY_DATE    AGE                     FILENAME  SITE  \n",
       "0    2005-06-24 00:00:00  55.17  swc1IXI016-Guys-0697-T1.nii  Guys  \n",
       "1    2005-06-30 00:00:00  58.66  swc1IXI019-Guys-0702-T1.nii  Guys  \n",
       "2    2006-08-21 00:00:00  74.03  swc1IXI028-Guys-1038-T1.nii  Guys  \n",
       "3    2005-11-18 00:00:00  59.22  swc1IXI029-Guys-0829-T1.nii  Guys  \n",
       "4    2005-07-13 00:00:00  63.19  swc1IXI050-Guys-0711-T1.nii  Guys  \n",
       "..                   ...    ...                          ...   ...  \n",
       "269  2006-10-25 00:00:00  60.54    swc1IXI606-HH-2601-T1.nii    HH  \n",
       "270  2006-10-25 00:00:00  52.50    swc1IXI608-HH-2599-T1.nii    HH  \n",
       "271  2006-11-01 00:00:00  56.68    swc1IXI610-HH-2649-T1.nii    HH  \n",
       "272  2006-11-01 00:00:00  56.44    swc1IXI632-HH-2652-T1.nii    HH  \n",
       "273  2006-11-01 00:00:00  71.21    swc1IXI646-HH-2653-T1.nii    HH  \n",
       "\n",
       "[274 rows x 14 columns]"
      ]
     },
     "execution_count": 2,
     "metadata": {},
     "output_type": "execute_result"
    }
   ],
   "source": [
    "# The IXI_unbiased.csv is generated by running\n",
    "# python utils.py\n",
    "# which does very simple filtering\n",
    "df = pd.read_csv(\"data/IXI_4x4x4/IXI_unbiased.csv\")\n",
    "df"
   ]
  },
  {
   "cell_type": "markdown",
   "metadata": {},
   "source": [
    "## Population-of-Interest\n",
    "\n",
    "\n",
    "\"Site is not significantly associated with age in the resulting 272 subjects (2-sided Student's t-test, p = 0.77)\"\n",
    "\n",
    "**NOTE: Since the 2 discarded subjects mentioned in the paper are unknown, the p-value is estimated baed on the entire set**\n",
    "\n",
    "https://docs.scipy.org/doc/scipy/reference/generated/scipy.stats.ttest_ind.html#scipy.stats.ttest_ind\n",
    "\n",
    "By default, the p-value is determined by comparing the t-statistic of the observed data against a theoretical t-distribution. When `1 < permutations < binom(n, k)`, where\n",
    " - `k` is the number of observations in a,\n",
    " - `n` is the total number of observations in a and b, and\n",
    " - `binom(n, k)` is the binomial coefficient (`n` choose `k`)\n",
    "\n",
    "**NOTE: compare to conditional permutational test where the density function is being estimated from the data**\n",
    "\n",
    "The statistic is calculated as `(np.mean(a) - np.mean(b))/se`, where `se` is the standard error. Therefore, the statistic will be positive when the sample mean of `a` is greater than the sample mean of `b` and negative when the sample mean of a is less than the sample mean of b."
   ]
  },
  {
   "cell_type": "code",
   "execution_count": 3,
   "metadata": {},
   "outputs": [
    {
     "name": "stdout",
     "output_type": "stream",
     "text": [
      "T-statistic: 0.2637920072636834\n",
      "P-value: 0.792139934648073\n"
     ]
    }
   ],
   "source": [
    "def compute_ttest_p(df):\n",
    "  group1 = df[df[\"SITE\"]==\"Guys\"][\"AGE\"]\n",
    "  group2 = df[df[\"SITE\"]==\"HH\"][\"AGE\"]\n",
    "  t_stat, p_value = ttest_ind(group1, group2)\n",
    "  print(f'T-statistic: {t_stat}')\n",
    "  print(f'P-value: {p_value}')\n",
    "\n",
    "df = pd.read_csv(\"data/IXI_4x4x4/IXI_unbiased.csv\")\n",
    "compute_ttest_p(df)"
   ]
  },
  {
   "cell_type": "markdown",
   "metadata": {},
   "source": [
    "For model evaluation under confounding, we sample 4 biased training sets $B^1_1$, ..., $B^1_4$ of size 100 from $F^1$, each with significant associations between gender and MMSE (2-sided Student's t-test, p < 0.05), such that being male is aassociated with a higher MMSE score. These samples are produced by sampling from $F^1$ non-uniformly according to a model in which males are more likely to be chosen than females as the MMSE score increases.\n",
    "\n",
    "**NOTE: the paper wasn't clear of how they exactly did the sampling**"
   ]
  },
  {
   "cell_type": "code",
   "execution_count": 4,
   "metadata": {},
   "outputs": [
    {
     "name": "stdout",
     "output_type": "stream",
     "text": [
      "# of subjects from Guys: 183\n",
      "# of subjects from HH: 91\n"
     ]
    }
   ],
   "source": [
    "print(f\"# of subjects from Guys: {len(df[df['SITE'] == 'Guys'])}\")\n",
    "print(f\"# of subjects from HH: {len(df[df['SITE'] == 'HH'])}\")"
   ]
  },
  {
   "cell_type": "code",
   "execution_count": 5,
   "metadata": {},
   "outputs": [
    {
     "data": {
      "image/png": "[encoded data removed]",
      "text/plain": [
       "<Figure size 640x480 with 1 Axes>"
      ]
     },
     "metadata": {},
     "output_type": "display_data"
    }
   ],
   "source": [
    "\n",
    "df[df['SITE'] == 'Guys']['AGE'].plot(kind='hist', bins=10, edgecolor='black')\n",
    "plt.title(\"Guys\")\n",
    "plt.show()"
   ]
  },
  {
   "cell_type": "code",
   "execution_count": 6,
   "metadata": {},
   "outputs": [
    {
     "data": {
      "image/png": "[encoded data removed]",
      "text/plain": [
       "<Figure size 640x480 with 1 Axes>"
      ]
     },
     "metadata": {},
     "output_type": "display_data"
    }
   ],
   "source": [
    "df[df['SITE'] == 'HH']['AGE'].plot(kind='hist', bins=10, edgecolor='black')\n",
    "plt.title(\"HH\")\n",
    "plt.show()"
   ]
  },
  {
   "cell_type": "markdown",
   "metadata": {},
   "source": [
    "## 1. Split the data in half"
   ]
  },
  {
   "cell_type": "code",
   "execution_count": 7,
   "metadata": {},
   "outputs": [],
   "source": [
    "df_F1 = pd.concat([df[df[\"SITE\"]==\"Guys\"].sample(n=len(df[df['SITE'] == 'Guys'])//2, random_state=45),\n",
    "                   df[df[\"SITE\"]==\"HH\"].sample(n=len(df[df['SITE'] == 'HH'])//2, random_state=18)])\n",
    "df_F2 = df.drop(df_F1.index)\n",
    "df_F1=df_F1.reset_index(drop=True)"
   ]
  },
  {
   "cell_type": "code",
   "execution_count": 8,
   "metadata": {},
   "outputs": [
    {
     "name": "stdout",
     "output_type": "stream",
     "text": [
      "T-statistic: 0.23577928785041474\n",
      "P-value: 0.8139639219060985\n",
      "Guys 91, HH 45\n",
      "T-statistic: 0.13895953474035896\n",
      "P-value: 0.8896876832960656\n",
      "Guys 92, HH 46\n"
     ]
    }
   ],
   "source": [
    "compute_ttest_p(df_F1)\n",
    "print(f\"Guys {len(df_F1[df_F1['SITE']=='Guys'])}, HH {len(df_F1[df_F1['SITE']=='HH'])}\")\n",
    "compute_ttest_p(df_F2)\n",
    "print(f\"Guys {len(df_F2[df_F2['SITE']=='Guys'])}, HH {len(df_F2[df_F2['SITE']=='HH'])}\")"
   ]
  },
  {
   "cell_type": "markdown",
   "metadata": {},
   "source": [
    "**This satisfies p > 0.05 requirement**"
   ]
  },
  {
   "cell_type": "markdown",
   "metadata": {},
   "source": [
    "## 2. Sample both biased and unbiased training sets $B^1_1, B^1_2, B^1_3, B^1_4$ and $B^2_1, B^2_2, B^2_3, B^2_4$"
   ]
  },
  {
   "cell_type": "code",
   "execution_count": 9,
   "metadata": {},
   "outputs": [
    {
     "name": "stdout",
     "output_type": "stream",
     "text": [
      "Found significant sample on iteration 622\n",
      "T-statistic: 2.0941997473322225\n",
      "P-value: 0.03882248146878711\n",
      "Found significant sample on iteration 607\n",
      "T-statistic: 2.1245598300770387\n",
      "P-value: 0.0361393202183524\n",
      "Found significant sample on iteration 212\n",
      "T-statistic: 2.0619287806097715\n",
      "P-value: 0.04186122837768778\n",
      "Found significant sample on iteration 915\n",
      "T-statistic: 2.0921530881862096\n",
      "P-value: 0.03900938979706536\n"
     ]
    }
   ],
   "source": [
    "# The original paper didn't mention whether the ratio between the two sites, hence making the assumption of 65/35\n",
    "# to match with the ratio with the original set  \n",
    "def sampling_biased(df, max_iter=1000, seed=0):\n",
    "  np.random.seed(seed)  # For reproducibility\n",
    "  for i in range(max_iter):\n",
    "    # Randomly sample equal numbers from both groups\n",
    "    group1_sample = df[df[\"SITE\"]==\"Guys\"].sample(n=65)\n",
    "    group2_sample = df[df[\"SITE\"]==\"HH\"].sample(n=35)\n",
    "    \n",
    "    # Compute the t-test on the two samples\n",
    "    t_stat, p_value = ttest_ind(group1_sample[\"AGE\"], group2_sample[\"AGE\"])\n",
    "    \n",
    "    # Check if the result is significant\n",
    "    if p_value < 0.05:\n",
    "      print(f'Found significant sample on iteration {i+1}')\n",
    "      print(f'T-statistic: {t_stat}')\n",
    "      print(f'P-value: {p_value}')\n",
    "      return pd.concat([group1_sample, group2_sample], ignore_index=True)\n",
    "  \n",
    "  print('No significant sample found.')\n",
    "  return None, None\n",
    "\n",
    "# Example usage:\n",
    "# df is your original DataFrame\n",
    "B_1_1 = sampling_biased(df_F1, max_iter=1000, seed=46)\n",
    "B_1_2 = sampling_biased(df_F1, max_iter=1000, seed=49)\n",
    "B_1_3 = sampling_biased(df_F1, max_iter=1000, seed=81)\n",
    "B_1_4 = sampling_biased(df_F1, max_iter=1000, seed=94)"
   ]
  },
  {
   "cell_type": "code",
   "execution_count": 10,
   "metadata": {},
   "outputs": [
    {
     "name": "stdout",
     "output_type": "stream",
     "text": [
      "Found significant sample on iteration 2\n",
      "T-statistic: 0.15127352438138672\n",
      "P-value: 0.8800709129419302\n",
      "Found significant sample on iteration 3\n",
      "T-statistic: 0.06475239221540076\n",
      "P-value: 0.9485030500262895\n",
      "Found significant sample on iteration 1\n",
      "T-statistic: -0.15999758607078665\n",
      "P-value: 0.8732122934389859\n",
      "Found significant sample on iteration 3\n",
      "T-statistic: -0.0399297800097772\n",
      "P-value: 0.9682303424164503\n"
     ]
    }
   ],
   "source": [
    "def sampling_unbiased(df, max_iter=1000, seed=0):\n",
    "  np.random.seed(seed)  # For reproducibility\n",
    "  for i in range(max_iter):\n",
    "    # Randomly sample equal numbers from both groups\n",
    "    group1_sample = df[df[\"SITE\"]==\"Guys\"].sample(n=65)\n",
    "    group2_sample = df[df[\"SITE\"]==\"HH\"].sample(n=35)\n",
    "    \n",
    "    # Compute the t-test on the two samples\n",
    "    t_stat, p_value = ttest_ind(group1_sample[\"AGE\"], group2_sample[\"AGE\"])\n",
    "    \n",
    "    # Check if the result is significant\n",
    "    if p_value > 0.8:\n",
    "      print(f'Found significant sample on iteration {i+1}')\n",
    "      print(f'T-statistic: {t_stat}')\n",
    "      print(f'P-value: {p_value}')\n",
    "      return pd.concat([group1_sample, group2_sample], ignore_index=True)\n",
    "  \n",
    "  print('No significant sample found.')\n",
    "  return None, None\n",
    "\n",
    "# Example usage:\n",
    "# df is your original DataFrame\n",
    "B_2_1 = sampling_unbiased(df, max_iter=1000, seed=0)\n",
    "B_2_2 = sampling_unbiased(df, max_iter=1000, seed=1)\n",
    "B_2_3 = sampling_unbiased(df, max_iter=1000, seed=2)\n",
    "B_2_4 = sampling_unbiased(df, max_iter=1000, seed=3)"
   ]
  },
  {
   "cell_type": "markdown",
   "metadata": {},
   "source": [
    "# 3. Reproduce Age Prediction based on Gaussian Process Regression"
   ]
  },
  {
   "cell_type": "markdown",
   "metadata": {},
   "source": []
  }
 ],
 "metadata": {
  "kernelspec": {
   "display_name": "pytorch2.0",
   "language": "python",
   "name": "python3"
  },
  "language_info": {
   "codemirror_mode": {
    "name": "ipython",
    "version": 3
   },
   "file_extension": ".py",
   "mimetype": "text/x-python",
   "name": "python",
   "nbconvert_exporter": "python",
   "pygments_lexer": "ipython3",
   "version": "3.10.12"
  }
 },
 "nbformat": 4,
 "nbformat_minor": 2
}
