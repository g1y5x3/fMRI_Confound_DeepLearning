{
 "cells": [
  {
   "cell_type": "markdown",
   "metadata": {},
   "source": [
    "## Inspect the voxel size for the raw fMRI scan to help decide the normalization scale"
   ]
  },
  {
   "cell_type": "code",
   "execution_count": 1,
   "metadata": {},
   "outputs": [],
   "source": [
    "import nibabel as nib"
   ]
  },
  {
   "cell_type": "code",
   "execution_count": 2,
   "metadata": {},
   "outputs": [
    {
     "name": "stdout",
     "output_type": "stream",
     "text": [
      "Voxel Size: (0.937499, 0.9375001, 1.1999996)\n"
     ]
    }
   ],
   "source": [
    "\n",
    "nii = nib.load(\"/home/iris/yg5d6/Workspace/IXI_dataset/IXI588-IOP-1158-T1.nii\")\n",
    "voxel_size = nii.header.get_zooms()\n",
    "print(f\"Voxel Size: {voxel_size}\")"
   ]
  },
  {
   "cell_type": "code",
   "execution_count": 3,
   "metadata": {},
   "outputs": [
    {
     "name": "stdout",
     "output_type": "stream",
     "text": [
      "Voxel Size: (0.9375, 0.9375, 1.1999996)\n"
     ]
    }
   ],
   "source": [
    "nii = nib.load(\"/home/iris/yg5d6/Workspace/IXI_dataset/IXI431-Guys-0986-T1.nii\")\n",
    "voxel_size = nii.header.get_zooms()\n",
    "print(f\"Voxel Size: {voxel_size}\")"
   ]
  },
  {
   "cell_type": "code",
   "execution_count": 4,
   "metadata": {},
   "outputs": [
    {
     "name": "stdout",
     "output_type": "stream",
     "text": [
      "Voxel Size: (0.9375, 0.9375, 1.1999995)\n"
     ]
    }
   ],
   "source": [
    "nii = nib.load(\"/home/iris/yg5d6/Workspace/IXI_dataset/IXI518-HH-2239-T1.nii\")\n",
    "voxel_size = nii.header.get_zooms()\n",
    "print(f\"Voxel Size: {voxel_size}\")"
   ]
  }
 ],
 "metadata": {
  "kernelspec": {
   "display_name": "pytorch2.0",
   "language": "python",
   "name": "python3"
  },
  "language_info": {
   "codemirror_mode": {
    "name": "ipython",
    "version": 3
   },
   "file_extension": ".py",
   "mimetype": "text/x-python",
   "name": "python",
   "nbconvert_exporter": "python",
   "pygments_lexer": "ipython3",
   "version": "3.10.12"
  }
 },
 "nbformat": 4,
 "nbformat_minor": 2
}
